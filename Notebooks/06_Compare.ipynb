{
 "cells": [
  {
   "cell_type": "code",
   "execution_count": 13,
   "id": "2b0e52b3",
   "metadata": {},
   "outputs": [
    {
     "name": "stderr",
     "output_type": "stream",
     "text": [
      "/opt/anaconda3/envs/sumz/lib/python3.11/site-packages/tqdm/auto.py:21: TqdmWarning: IProgress not found. Please update jupyter and ipywidgets. See https://ipywidgets.readthedocs.io/en/stable/user_install.html\n",
      "  from .autonotebook import tqdm as notebook_tqdm\n"
     ]
    }
   ],
   "source": [
    "# === 1. Librerías base\n",
    "import os\n",
    "import sys\n",
    "import ast\n",
    "import json\n",
    "import joblib\n",
    "import numpy as np\n",
    "import pandas as pd\n",
    "import matplotlib.pyplot as plt\n",
    "\n",
    "# === 2. ML y procesamiento\n",
    "from sklearn.pipeline import Pipeline\n",
    "from sklearn.compose import ColumnTransformer\n",
    "from sklearn.preprocessing import OneHotEncoder, OrdinalEncoder, StandardScaler\n",
    "from sklearn.model_selection import StratifiedKFold, RandomizedSearchCV, learning_curve\n",
    "from sklearn.metrics import accuracy_score, roc_auc_score, roc_curve\n",
    "from scipy.stats import randint, uniform\n",
    "\n",
    "# === 3. Modelo principal\n",
    "from xgboost import XGBClassifier\n",
    "\n",
    "# === 4. Utilidades adicionales\n",
    "from sentence_transformers import SentenceTransformer\n",
    "from sklearn.cluster import KMeans\n",
    "from sklearn.preprocessing import MultiLabelBinarizer\n",
    "from joblib import dump\n",
    "from new_or_used import build_dataset  # función provista para cargar datos\n",
    "\n",
    "# === 5. MLflow\n",
    "import mlflow\n",
    "import mlflow.sklearn\n",
    "\n",
    "# === 6. Configuración general\n",
    "pd.set_option('display.max_columns', None)\n",
    "\n"
   ]
  },
  {
   "cell_type": "code",
   "execution_count": 14,
   "id": "d0fb904c",
   "metadata": {},
   "outputs": [
    {
     "name": "stdout",
     "output_type": "stream",
     "text": [
      "Datasets cargados correctamente.\n"
     ]
    }
   ],
   "source": [
    "# Cargar los datasets preprocesados\n",
    "X_train = pd.read_csv(\"../Data/Gold/X_train_gold.csv\")\n",
    "X_test = pd.read_csv(\"../Data/Gold/X_test_gold.csv\")\n",
    "y_train = pd.read_csv(\"../Data/Gold/y_train_gold.csv\")\n",
    "y_test = pd.read_csv(\"../Data/Gold/y_test_gold.csv\")\n",
    "\n",
    "y_test.rename(columns={'0': 'condition'}, inplace=True)\n",
    "\n",
    "y_train_final = y_train[\"condition\"].map({\"used\": 0, \"new\": 1})\n",
    "y_test_final = y_test[\"condition\"].map({\"used\": 0, \"new\": 1})\n",
    "\n",
    "\n",
    "print(\"Datasets cargados correctamente.\")"
   ]
  },
  {
   "cell_type": "code",
   "execution_count": 15,
   "id": "de81a390",
   "metadata": {},
   "outputs": [
    {
     "name": "stdout",
     "output_type": "stream",
     "text": [
      "🏆 Top modelos por accuracy + roc_auc:\n",
      "                             run_id     experiment_name  accuracy   roc_auc\n",
      "0  4d1ecec5df16441b92ab2c18df16afca  XGBoost_Experiment    0.8892  0.959242\n",
      "1  ebb835b1a47b4e728bb595b66be22b90  XGBoost_Experiment    0.8892  0.959242\n"
     ]
    }
   ],
   "source": [
    "import mlflow\n",
    "from mlflow.tracking import MlflowClient\n",
    "import pandas as pd\n",
    "\n",
    "# === Configuración\n",
    "mlflow.set_tracking_uri(\"file:../Experiments\")  # Ajusta si estás en Notebooks/\n",
    "client = MlflowClient()\n",
    "\n",
    "# Verificamos el nombre correcto del experimento\n",
    "EXPERIMENT_NAME = \"XGBoost_Experiment\"\n",
    "\n",
    "# Buscar el experimento\n",
    "exp = mlflow.get_experiment_by_name(EXPERIMENT_NAME)\n",
    "\n",
    "if exp is None:\n",
    "    raise ValueError(f\"❌ No se encontró el experimento '{EXPERIMENT_NAME}'\")\n",
    "\n",
    "# Buscar los runs\n",
    "runs = client.search_runs(\n",
    "    experiment_ids=[exp.experiment_id],\n",
    "    filter_string=\"attributes.status = 'FINISHED'\"\n",
    ")\n",
    "\n",
    "if not runs:\n",
    "    raise ValueError(f\"⚠️ No hay runs finalizados en '{EXPERIMENT_NAME}'\")\n",
    "\n",
    "# Convertir a DataFrame\n",
    "runs_df = pd.DataFrame([{\n",
    "    \"run_id\": run.info.run_id,\n",
    "    \"experiment_name\": EXPERIMENT_NAME,\n",
    "    \"accuracy\": run.data.metrics.get(\"accuracy\", None),\n",
    "    \"roc_auc\": run.data.metrics.get(\"roc_auc\", None)\n",
    "} for run in runs])\n",
    "\n",
    "# Ordenar\n",
    "df_filtered = runs_df.sort_values(by=[\"accuracy\", \"roc_auc\"], ascending=False)\n",
    "\n",
    "# Mostrar\n",
    "print(\"🏆 Top modelos por accuracy + roc_auc:\")\n",
    "print(df_filtered.head(10))"
   ]
  },
  {
   "cell_type": "code",
   "execution_count": 21,
   "id": "30c2fd8f",
   "metadata": {},
   "outputs": [],
   "source": [
    "best_run_id = df_filtered.iloc[0][\"run_id\"]\n",
    "model_uri = f\"runs:/{best_run_id}/xgboost_pipeline_v1\"  # o el nombre exacto usado en log_model\n",
    "\n",
    "# Cargar el modelo\n",
    "loaded_model = mlflow.sklearn.load_model(model_uri)\n",
    "\n",
    "# Predecir\n",
    "y_pred = loaded_model.predict(X_test)"
   ]
  },
  {
   "cell_type": "code",
   "execution_count": 31,
   "id": "f97547a0",
   "metadata": {},
   "outputs": [
    {
     "data": {
      "text/plain": [
       "(array([0, 1, 1, 0, 1, 1, 0, 1, 1, 0]), array([1, 1, 1, 0, 1, 1, 1, 1, 1, 0]))"
      ]
     },
     "execution_count": 31,
     "metadata": {},
     "output_type": "execute_result"
    }
   ],
   "source": [
    "y_true = y_test_final.to_numpy()\n",
    "y_true[0:10], y_pred[0:10]  # Mostrar las primeras 5 predicciones"
   ]
  },
  {
   "cell_type": "code",
   "execution_count": 24,
   "id": "520e7ccb",
   "metadata": {},
   "outputs": [
    {
     "data": {
      "text/plain": [
       "array([1, 1, 1, ..., 1, 0, 0])"
      ]
     },
     "execution_count": 24,
     "metadata": {},
     "output_type": "execute_result"
    }
   ],
   "source": [
    "y_pred"
   ]
  },
  {
   "cell_type": "code",
   "execution_count": 25,
   "id": "9d204431",
   "metadata": {},
   "outputs": [
    {
     "name": "stdout",
     "output_type": "stream",
     "text": [
      "📊 Confusion Matrix:\n",
      "[[4061  533]\n",
      " [ 575 4831]]\n",
      "\n",
      "📋 Classification Report:\n",
      "              precision    recall  f1-score   support\n",
      "\n",
      "           0       0.88      0.88      0.88      4594\n",
      "           1       0.90      0.89      0.90      5406\n",
      "\n",
      "    accuracy                           0.89     10000\n",
      "   macro avg       0.89      0.89      0.89     10000\n",
      "weighted avg       0.89      0.89      0.89     10000\n",
      "\n"
     ]
    }
   ],
   "source": [
    "from sklearn.metrics import classification_report, confusion_matrix\n",
    "\n",
    "print(\"📊 Confusion Matrix:\")\n",
    "print(confusion_matrix(y_true, y_pred))\n",
    "\n",
    "print(\"\\n📋 Classification Report:\")\n",
    "print(classification_report(y_true, y_pred))"
   ]
  },
  {
   "cell_type": "code",
   "execution_count": 27,
   "id": "53943117",
   "metadata": {},
   "outputs": [
    {
     "name": "stdout",
     "output_type": "stream",
     "text": [
      "✅ Modelo guardado en ./Models/best_model_production.pkl\n"
     ]
    }
   ],
   "source": [
    "from joblib import dump\n",
    "import mlflow\n",
    "\n",
    "best_run_id = df_filtered.iloc[0][\"run_id\"]\n",
    "model_uri = f\"runs:/{best_run_id}/xgboost_pipeline_v1\"\n",
    "\n",
    "# Cargar el pipeline completo desde MLflow\n",
    "loaded_model = mlflow.sklearn.load_model(model_uri)\n",
    "\n",
    "# Guardar localmente\n",
    "dump(loaded_model, \"../Models/best_model_production.pkl\")\n",
    "print(\"✅ Modelo guardado en ./Models/best_model_production.pkl\")"
   ]
  }
 ],
 "metadata": {
  "kernelspec": {
   "display_name": "sumz",
   "language": "python",
   "name": "python3"
  },
  "language_info": {
   "codemirror_mode": {
    "name": "ipython",
    "version": 3
   },
   "file_extension": ".py",
   "mimetype": "text/x-python",
   "name": "python",
   "nbconvert_exporter": "python",
   "pygments_lexer": "ipython3",
   "version": "3.11.8"
  }
 },
 "nbformat": 4,
 "nbformat_minor": 5
}
