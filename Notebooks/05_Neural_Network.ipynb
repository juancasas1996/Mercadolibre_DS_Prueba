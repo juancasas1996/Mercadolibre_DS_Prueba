{
 "cells": [
  {
   "cell_type": "code",
   "execution_count": 4,
   "id": "c4810e2e",
   "metadata": {},
   "outputs": [
    {
     "data": {
      "text/plain": [
       "<Experiment: artifact_location=('file:///Users/sebastian/Library/Mobile '\n",
       " 'Documents/com~apple~CloudDocs/Meli/CodeExercise DS - Items Nuevos_Usados '\n",
       " '(1)/MercadoLibre_Test/Notebooks/../Experiments/401457704096855387'), creation_time=1747891602238, experiment_id='401457704096855387', last_update_time=1747891602238, lifecycle_stage='active', name='Neural_Network_Experiment', tags={}>"
      ]
     },
     "execution_count": 4,
     "metadata": {},
     "output_type": "execute_result"
    }
   ],
   "source": [
    "import pandas as pd\n",
    "from collections import Counter\n",
    "import sys\n",
    "import os\n",
    "import ast\n",
    "import json\n",
    "import pandas as pd\n",
    "import numpy as np\n",
    "import ast\n",
    "import joblib\n",
    "from sentence_transformers import SentenceTransformer\n",
    "from sklearn.cluster import KMeans\n",
    "from sklearn.preprocessing import MultiLabelBinarizer\n",
    "from sklearn.pipeline import Pipeline\n",
    "from sklearn.compose import ColumnTransformer\n",
    "from sklearn.preprocessing import OneHotEncoder, StandardScaler\n",
    "from xgboost import XGBClassifier\n",
    "from sklearn.metrics import accuracy_score\n",
    "import pandas as pd\n",
    "import numpy as np\n",
    "import matplotlib.pyplot as plt\n",
    "from sklearn.pipeline import Pipeline\n",
    "from sklearn.compose import ColumnTransformer\n",
    "from sklearn.preprocessing import OneHotEncoder, StandardScaler\n",
    "from sklearn.model_selection import StratifiedKFold, RandomizedSearchCV\n",
    "from sklearn.metrics import accuracy_score, roc_auc_score, roc_curve\n",
    "from xgboost import XGBClassifier\n",
    "from scipy.stats import randint, uniform\n",
    "import mlflow\n",
    "import mlflow.sklearn\n",
    "from scipy.stats import loguniform\n",
    "\n",
    "from new_or_used import build_dataset\n",
    "pd.set_option('display.max_columns', None)\n",
    "\n",
    "mlflow.set_tracking_uri(\"file:../Experiments\") \n",
    "mlflow.set_experiment(\"Neural_Network_Experiment\")\n"
   ]
  },
  {
   "cell_type": "code",
   "execution_count": 5,
   "id": "e8ee6701",
   "metadata": {},
   "outputs": [
    {
     "name": "stdout",
     "output_type": "stream",
     "text": [
      "Datasets cargados correctamente.\n"
     ]
    }
   ],
   "source": [
    "# Cargar los datasets preprocesados\n",
    "X_train = pd.read_csv(\"../Data/Gold/X_train_gold.csv\")\n",
    "X_test = pd.read_csv(\"../Data/Gold/X_test_gold.csv\")\n",
    "y_train = pd.read_csv(\"../Data/Gold/y_train_gold.csv\")\n",
    "y_test = pd.read_csv(\"../Data/Gold/y_test_gold.csv\")\n",
    "\n",
    "y_test.rename(columns={'0': 'condition'}, inplace=True)\n",
    "\n",
    "y_train_final = y_train[\"condition\"].map({\"used\": 0, \"new\": 1})\n",
    "y_test_final = y_test[\"condition\"].map({\"used\": 0, \"new\": 1})\n",
    "\n",
    "\n",
    "print(\"Datasets cargados correctamente.\")"
   ]
  },
  {
   "cell_type": "code",
   "execution_count": 6,
   "id": "d0710b07",
   "metadata": {},
   "outputs": [
    {
     "name": "stderr",
     "output_type": "stream",
     "text": [
      "/opt/anaconda3/envs/sumz/lib/python3.11/site-packages/sklearn/neural_network/_multilayer_perceptron.py:690: ConvergenceWarning: Stochastic Optimizer: Maximum iterations (200) reached and the optimization hasn't converged yet.\n",
      "  warnings.warn(\n",
      "python(53083) MallocStackLogging: can't turn off malloc stack logging because it was not enabled.\n",
      "\u001b[31m2025/05/22 12:51:34 WARNING mlflow.models.model: Model logged without a signature and input example. Please set `input_example` parameter when logging the model to auto infer the model signature.\u001b[0m\n"
     ]
    },
    {
     "name": "stdout",
     "output_type": "stream",
     "text": [
      "NeuralNet => Accuracy: 0.8625 | ROC AUC: 0.9358\n"
     ]
    }
   ],
   "source": [
    "import mlflow\n",
    "import mlflow.sklearn\n",
    "from sklearn.neural_network import MLPClassifier\n",
    "\n",
    "\n",
    "# === Agrupar ciudades top\n",
    "top_cities = X_train['seller_address.city.name'].value_counts().nlargest(20).index\n",
    "X_train['city_grouped'] = X_train['seller_address.city.name'].apply(lambda x: x if x in top_cities else 'other')\n",
    "X_test['city_grouped'] = X_test['seller_address.city.name'].apply(lambda x: x if x in top_cities else 'other')\n",
    "\n",
    "# === Eliminar columnas de alta cardinalidad\n",
    "X_train_lr = X_train.drop(columns=['seller_id', 'seller_address.city.name'])\n",
    "X_test_lr = X_test.drop(columns=['seller_id', 'seller_address.city.name'])\n",
    "\n",
    "# === Columnas categóricas y numéricas\n",
    "cat_cols = X_train_lr.select_dtypes(include='object').columns.tolist()\n",
    "num_cols = X_train_lr.select_dtypes(include=['int64', 'float64']).columns.tolist()\n",
    "\n",
    "# === Pipeline\n",
    "preprocessor = ColumnTransformer([\n",
    "    (\"cat\", OneHotEncoder(handle_unknown='ignore', sparse_output=False), cat_cols),\n",
    "    (\"num\", StandardScaler(), num_cols)\n",
    "])\n",
    "\n",
    "pipeline = Pipeline([\n",
    "    (\"preprocessing\", preprocessor),\n",
    "    (\"classifier\", MLPClassifier(hidden_layer_sizes=(64,), max_iter=200, random_state=42))\n",
    "])\n",
    "\n",
    "with mlflow.start_run(run_name=\"NeuralNet\"):\n",
    "    pipeline.fit(X_train, y_train_final)\n",
    "    y_pred = pipeline.predict(X_test)\n",
    "    y_prob = pipeline.predict_proba(X_test)[:, 1]\n",
    "\n",
    "    acc = accuracy_score(y_test_final, y_pred)\n",
    "    auc = roc_auc_score(y_test_final, y_prob)\n",
    "\n",
    "    mlflow.log_metric(\"accuracy\", acc)\n",
    "    mlflow.log_metric(\"roc_auc\", auc)\n",
    "    mlflow.sklearn.log_model(pipeline, \"NeuralNet\")\n",
    "\n",
    "    print(f\"NeuralNet => Accuracy: {acc:.4f} | ROC AUC: {auc:.4f}\")"
   ]
  }
 ],
 "metadata": {
  "kernelspec": {
   "display_name": "sumz",
   "language": "python",
   "name": "python3"
  },
  "language_info": {
   "codemirror_mode": {
    "name": "ipython",
    "version": 3
   },
   "file_extension": ".py",
   "mimetype": "text/x-python",
   "name": "python",
   "nbconvert_exporter": "python",
   "pygments_lexer": "ipython3",
   "version": "3.11.8"
  }
 },
 "nbformat": 4,
 "nbformat_minor": 5
}
