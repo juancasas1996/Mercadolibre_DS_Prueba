{
 "cells": [
  {
   "cell_type": "code",
   "execution_count": 2,
   "id": "027a413d",
   "metadata": {},
   "outputs": [
    {
     "data": {
      "text/plain": [
       "<Experiment: artifact_location=('file:///Users/sebastian/Library/Mobile '\n",
       " 'Documents/com~apple~CloudDocs/Meli/CodeExercise DS - Items Nuevos_Usados '\n",
       " '(1)/MercadoLibre_Test/Notebooks/../Experiments/453329136426596343'), creation_time=1747889644004, experiment_id='453329136426596343', last_update_time=1747889644004, lifecycle_stage='active', name='LogisticRegression_Experiment', tags={}>"
      ]
     },
     "execution_count": 2,
     "metadata": {},
     "output_type": "execute_result"
    }
   ],
   "source": [
    "import pandas as pd\n",
    "from collections import Counter\n",
    "import sys\n",
    "import os\n",
    "import ast\n",
    "import json\n",
    "import pandas as pd\n",
    "import numpy as np\n",
    "import ast\n",
    "import joblib\n",
    "from sentence_transformers import SentenceTransformer\n",
    "from sklearn.cluster import KMeans\n",
    "from sklearn.preprocessing import MultiLabelBinarizer\n",
    "from sklearn.pipeline import Pipeline\n",
    "from sklearn.compose import ColumnTransformer\n",
    "from sklearn.preprocessing import OneHotEncoder, StandardScaler\n",
    "from xgboost import XGBClassifier\n",
    "from sklearn.metrics import accuracy_score\n",
    "import pandas as pd\n",
    "import numpy as np\n",
    "import matplotlib.pyplot as plt\n",
    "from sklearn.pipeline import Pipeline\n",
    "from sklearn.compose import ColumnTransformer\n",
    "from sklearn.preprocessing import OneHotEncoder, StandardScaler\n",
    "from sklearn.model_selection import StratifiedKFold, RandomizedSearchCV\n",
    "from sklearn.metrics import accuracy_score, roc_auc_score, roc_curve\n",
    "from xgboost import XGBClassifier\n",
    "from scipy.stats import randint, uniform\n",
    "import mlflow\n",
    "import mlflow.sklearn\n",
    "from scipy.stats import loguniform\n",
    "\n",
    "from new_or_used import build_dataset\n",
    "pd.set_option('display.max_columns', None)\n",
    "\n",
    "mlflow.set_tracking_uri(\"file:../Experiments\") \n",
    "mlflow.set_experiment(\"LogisticRegression_Experiment\")\n"
   ]
  },
  {
   "cell_type": "code",
   "execution_count": 3,
   "id": "042c0c2d",
   "metadata": {},
   "outputs": [
    {
     "name": "stdout",
     "output_type": "stream",
     "text": [
      "Datasets cargados correctamente.\n"
     ]
    }
   ],
   "source": [
    "# Cargar los datasets preprocesados\n",
    "X_train = pd.read_csv(\"../Data/Gold/X_train_gold.csv\")\n",
    "X_test = pd.read_csv(\"../Data/Gold/X_test_gold.csv\")\n",
    "y_train = pd.read_csv(\"../Data/Gold/y_train_gold.csv\")\n",
    "y_test = pd.read_csv(\"../Data/Gold/y_test_gold.csv\")\n",
    "\n",
    "y_test.rename(columns={'0': 'condition'}, inplace=True)\n",
    "\n",
    "y_train_final = y_train[\"condition\"].map({\"used\": 0, \"new\": 1})\n",
    "y_test_final = y_test[\"condition\"].map({\"used\": 0, \"new\": 1})\n",
    "\n",
    "\n",
    "print(\"Datasets cargados correctamente.\")"
   ]
  },
  {
   "cell_type": "code",
   "execution_count": 4,
   "id": "7525029e",
   "metadata": {},
   "outputs": [
    {
     "name": "stdout",
     "output_type": "stream",
     "text": [
      "Fitting 5 folds for each of 5 candidates, totalling 25 fits\n",
      "[CV] END classifier__C=0.13292918943162169, classifier__solver=lbfgs; total time= 5.8min\n",
      "[CV] END classifier__C=0.13292918943162169, classifier__solver=lbfgs; total time= 6.1min\n",
      "[CV] END classifier__C=0.13292918943162169, classifier__solver=lbfgs; total time= 6.4min\n",
      "[CV] END classifier__C=0.13292918943162169, classifier__solver=lbfgs; total time= 6.4min\n",
      "[CV] END classifier__C=0.13292918943162169, classifier__solver=lbfgs; total time= 6.5min\n",
      "[CV] END classifier__C=0.6251373574521749, classifier__solver=lbfgs; total time=11.7min\n",
      "[CV] END classifier__C=0.21751953118777648, classifier__solver=lbfgs; total time= 6.6min\n",
      "[CV] END classifier__C=0.6251373574521749, classifier__solver=lbfgs; total time= 6.8min\n",
      "[CV] END classifier__C=0.6251373574521749, classifier__solver=lbfgs; total time= 7.4min\n",
      "[CV] END classifier__C=0.6251373574521749, classifier__solver=lbfgs; total time= 8.6min\n",
      "[CV] END classifier__C=0.21751953118777648, classifier__solver=lbfgs; total time= 3.0min\n",
      "[CV] END classifier__C=0.6251373574521749, classifier__solver=lbfgs; total time= 9.0min\n",
      "[CV] END classifier__C=0.21751953118777648, classifier__solver=lbfgs; total time= 1.9min\n",
      "[CV] END classifier__C=0.21751953118777648, classifier__solver=lbfgs; total time= 1.7min\n",
      "[CV] END classifier__C=0.21751953118777648, classifier__solver=lbfgs; total time= 1.1min\n",
      "[CV] END classifier__C=0.035506214270707714, classifier__solver=saga; total time=17.3min\n",
      "[CV] END classifier__C=0.014936568554617643, classifier__solver=saga; total time= 3.9min\n",
      "[CV] END classifier__C=0.035506214270707714, classifier__solver=saga; total time=19.9min\n",
      "[CV] END classifier__C=0.035506214270707714, classifier__solver=saga; total time=20.0min\n",
      "[CV] END classifier__C=0.014936568554617643, classifier__solver=saga; total time= 5.3min\n",
      "[CV] END classifier__C=0.035506214270707714, classifier__solver=saga; total time=20.0min\n",
      "[CV] END classifier__C=0.035506214270707714, classifier__solver=saga; total time=20.0min\n",
      "[CV] END classifier__C=0.014936568554617643, classifier__solver=saga; total time= 5.4min\n",
      "[CV] END classifier__C=0.014936568554617643, classifier__solver=saga; total time= 5.3min\n",
      "[CV] END classifier__C=0.014936568554617643, classifier__solver=saga; total time= 5.2min\n"
     ]
    },
    {
     "name": "stderr",
     "output_type": "stream",
     "text": [
      "\u001b[31m2025/05/22 12:28:50 WARNING mlflow.models.model: Model logged without a signature and input example. Please set `input_example` parameter when logging the model to auto infer the model signature.\u001b[0m\n"
     ]
    },
    {
     "name": "stdout",
     "output_type": "stream",
     "text": [
      "✅ Logistic Regression Accuracy: 0.8467 | ROC AUC: 0.9207\n"
     ]
    }
   ],
   "source": [
    "import mlflow\n",
    "import mlflow.sklearn\n",
    "import pandas as pd\n",
    "from sklearn.pipeline import Pipeline\n",
    "from sklearn.compose import ColumnTransformer\n",
    "from sklearn.preprocessing import OneHotEncoder, StandardScaler\n",
    "from sklearn.linear_model import LogisticRegression\n",
    "from sklearn.model_selection import StratifiedKFold, RandomizedSearchCV\n",
    "from sklearn.metrics import accuracy_score, roc_auc_score\n",
    "from scipy.stats import loguniform\n",
    "\n",
    "# === Agrupar top ciudades\n",
    "top_cities = X_train['seller_address.city.name'].value_counts().nlargest(20).index\n",
    "X_train['city_grouped'] = X_train['seller_address.city.name'].apply(lambda x: x if x in top_cities else 'other')\n",
    "X_test['city_grouped'] = X_test['seller_address.city.name'].apply(lambda x: x if x in top_cities else 'other')\n",
    "\n",
    "# === Eliminar columnas de alta cardinalidad\n",
    "X_train_lr = X_train.drop(columns=['seller_id', 'seller_address.city.name'])\n",
    "X_test_lr = X_test.drop(columns=['seller_id', 'seller_address.city.name'])\n",
    "\n",
    "# === Submuestreo para evitar explosión de RAM\n",
    "X_sample = X_train_lr.sample(frac=0.3, random_state=42)\n",
    "y_sample = y_train_final.loc[X_sample.index]\n",
    "\n",
    "# === Columnas\n",
    "cat_cols = X_sample.select_dtypes(include='object').columns.tolist()\n",
    "num_cols = X_sample.select_dtypes(include=['int64', 'float64']).columns.tolist()\n",
    "\n",
    "# === Preprocesamiento\n",
    "preprocessor = ColumnTransformer([\n",
    "    (\"cat\", OneHotEncoder(handle_unknown='ignore', sparse_output=False), cat_cols),\n",
    "    (\"num\", StandardScaler(), num_cols)\n",
    "])\n",
    "\n",
    "# === Pipeline base\n",
    "pipeline = Pipeline([\n",
    "    (\"preprocessing\", preprocessor),\n",
    "    (\"classifier\", LogisticRegression(max_iter=1000, random_state=42))\n",
    "])\n",
    "\n",
    "# === Búsqueda de hiperparámetros\n",
    "param_dist = {\n",
    "    \"classifier__C\": loguniform(0.01, 10),\n",
    "    \"classifier__solver\": [\"lbfgs\", \"saga\"]\n",
    "}\n",
    "\n",
    "cv = StratifiedKFold(n_splits=5, shuffle=True, random_state=42)\n",
    "\n",
    "search = RandomizedSearchCV(\n",
    "    estimator=pipeline,\n",
    "    param_distributions=param_dist,\n",
    "    n_iter=5,\n",
    "    scoring=\"accuracy\",\n",
    "    cv=cv,\n",
    "    random_state=42,\n",
    "    verbose=2,\n",
    "    n_jobs=-1\n",
    ")\n",
    "\n",
    "# === MLflow\n",
    "mlflow.set_tracking_uri(\"file:../Experiments\")\n",
    "mlflow.set_experiment(\"LogisticRegression_Experiment\")\n",
    "\n",
    "with mlflow.start_run(run_name=\"LogReg_CV_Sample\"):\n",
    "    search.fit(X_sample, y_sample)\n",
    "\n",
    "    best_pipeline = search.best_estimator_\n",
    "    mlflow.log_params(search.best_params_)\n",
    "\n",
    "    # Evaluar en full test\n",
    "    y_pred = best_pipeline.predict(X_test_lr)\n",
    "    y_prob = best_pipeline.predict_proba(X_test_lr)[:, 1]\n",
    "\n",
    "    acc = accuracy_score(y_test_final, y_pred)\n",
    "    auc = roc_auc_score(y_test_final, y_prob)\n",
    "\n",
    "    mlflow.log_metric(\"accuracy\", acc)\n",
    "    mlflow.log_metric(\"roc_auc\", auc)\n",
    "    mlflow.sklearn.log_model(best_pipeline, \"LogisticRegression_CV\")\n",
    "\n",
    "    print(f\"✅ Logistic Regression Accuracy: {acc:.4f} | ROC AUC: {auc:.4f}\")"
   ]
  }
 ],
 "metadata": {
  "kernelspec": {
   "display_name": "sumz",
   "language": "python",
   "name": "python3"
  },
  "language_info": {
   "codemirror_mode": {
    "name": "ipython",
    "version": 3
   },
   "file_extension": ".py",
   "mimetype": "text/x-python",
   "name": "python",
   "nbconvert_exporter": "python",
   "pygments_lexer": "ipython3",
   "version": "3.11.8"
  }
 },
 "nbformat": 4,
 "nbformat_minor": 5
}
